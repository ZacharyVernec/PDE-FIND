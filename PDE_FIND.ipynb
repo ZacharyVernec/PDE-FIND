{
 "cells": [
  {
   "cell_type": "code",
   "execution_count": 2,
   "metadata": {
    "colab": {},
    "colab_type": "code",
    "id": "MwYhbov3TZvP"
   },
   "outputs": [],
   "source": [
    "import numpy as np\n",
    "import re\n",
    "import matplotlib.pyplot as plt\n",
    "%matplotlib inline"
   ]
  },
  {
   "cell_type": "code",
   "execution_count": 12,
   "metadata": {
    "colab": {
     "base_uri": "https://localhost:8080/",
     "height": 71
    },
    "colab_type": "code",
    "id": "iJxZfxhwSZAw",
    "outputId": "a4b38766-9dfc-4e90-8b5c-bf458635ff35"
   },
   "outputs": [],
   "source": [
    "class PDE:\n",
    "    def __init__(self, eq_str='ut = 0', seed=0):\n",
    "        \"\"\"\n",
    "        eq_str must be of form ut=u+5+ux- 5.5uxx +1uux+u**2-uxuxx+uxx ux\n",
    "        The left side only contains ut\n",
    "        The right side contains terms of partials of x or of the function itself\n",
    "        Their can only be one constant\n",
    "        All constants or coefficients must be in decimal form\n",
    "        Exponents of partials of x or of the function must be using ** as a symbol\n",
    "        Their can be no parentheses\n",
    "        Whitespace is irrelevant\n",
    "        Order is irrelevant, but the termms must be unique\n",
    "        Only u can have an exponent\n",
    "        \"\"\"\n",
    "        self.eq = PDE.parse_eq(eq_str)\n",
    "        #ut = -6uux - uxxx\n",
    "        \n",
    "        self.rng = np.random.RandomState(seed)\n",
    "        \n",
    "        \n",
    "        self.tpoints = 201\n",
    "        self.xpoints = 512\n",
    "        self.trange = (0, 20)\n",
    "        self.xrange = (-30, 30)\n",
    "        \n",
    "        self.dt = (self.trange[1]-self.trange[0])/ self.tpoints #time steps\n",
    "        self.dx = (self.xrange[1]-self.xrange[0])/ self.xpoints #space step\n",
    "        \n",
    "        self.u = self.rng.rand(self.tpoints, self.xpoints)\n",
    "        \n",
    "        \n",
    "    def sim_step(self, curr_step_n):\n",
    "        curr_grid = self.grid[step_n]\n",
    "        \n",
    "    def get_dxs(self, point, npoints_behind, npoints_ahead):\n",
    "        diffs_behind = list(self.dxs[point-npoints_behind:point])\n",
    "        diffs_ahead = list(self.dxs[point:point+npoints_ahead])\n",
    "        return diffs_behind + diffs_ahead\n",
    "    \n",
    "    def get_du_x(self, time, point):\n",
    "        ugrid = self.u[time]\n",
    "        return ugrid[point+1] - ugrid[point]\n",
    "    def get_dus_x(self, time, point, npoints_behind, npoints_ahead):\n",
    "        ugrid = self.u[time]\n",
    "        diffs_behind = []\n",
    "        for i in range(npoints_behind, 0, -1):\n",
    "            diffs_behind.append(self.get_du_x(time, point-i))\n",
    "        diffs_ahead = []\n",
    "        for i in range(0, npoints_ahead, 1):\n",
    "            diffs_ahead.append(self.get_du_x(time, point+1))\n",
    "        return diffs_behind + diffs_ahead\n",
    "    \n",
    "    def get_x_derivative(self, time, point, order):\n",
    "        deriv = self.get_du_x(time, point+order-1) / self.dx**order\n",
    "        for i in range(order-1, 0, -1):\n",
    "            deriv -= self.get_x_derivative(time, point+i-1, order-i) / self.dx**i"
   ]
  },
  {
   "cell_type": "markdown",
   "metadata": {},
   "source": [
    "### TO DO\n",
    "- rewrite get_x_derivative to have less nested steps\n",
    "- use PYL (python lex and yacc) for parse-eq\n",
    "- make parse_eq more powerful\n",
    "- expand possible functions to include non-linearity, like ut = sin(ux)"
   ]
  }
 ],
 "metadata": {
  "colab": {
   "collapsed_sections": [],
   "name": "PDE-FIND.ipynb",
   "provenance": [],
   "version": "0.3.2"
  },
  "kernelspec": {
   "display_name": "Python [default]",
   "language": "python",
   "name": "python3"
  },
  "language_info": {
   "codemirror_mode": {
    "name": "ipython",
    "version": 3
   },
   "file_extension": ".py",
   "mimetype": "text/x-python",
   "name": "python",
   "nbconvert_exporter": "python",
   "pygments_lexer": "ipython3",
   "version": "3.5.5"
  }
 },
 "nbformat": 4,
 "nbformat_minor": 1
}
