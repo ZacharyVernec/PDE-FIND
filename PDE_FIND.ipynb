{
 "cells": [
  {
   "cell_type": "code",
   "execution_count": 1,
   "metadata": {
    "colab": {},
    "colab_type": "code",
    "id": "MwYhbov3TZvP"
   },
   "outputs": [],
   "source": [
    "import numpy as np\n",
    "import math\n",
    "import re\n",
    "import matplotlib.pyplot as plt\n",
    "%matplotlib inline"
   ]
  },
  {
   "cell_type": "code",
   "execution_count": 9,
   "metadata": {
    "code_folding": [
     1,
     27,
     36,
     38,
     62,
     69,
     74,
     82,
     92,
     98,
     104,
     126,
     136,
     154,
     160,
     165
    ],
    "colab": {
     "base_uri": "https://localhost:8080/",
     "height": 71
    },
    "colab_type": "code",
    "id": "iJxZfxhwSZAw",
    "outputId": "a4b38766-9dfc-4e90-8b5c-bf458635ff35"
   },
   "outputs": [],
   "source": [
    "class PDE:\n",
    "    def __init__(self, xi, tpoints=201, xpoints=512, trange=(0,20), xrange=(-30, 30), seed=0):\n",
    "        \"\"\"\n",
    "        xi is a 2d matrix where each entry corresponds to a coefficient of a term, \n",
    "        where the 1st axis corresponds to the order of the space partial derivative\n",
    "        and the 2nd axis corresponds to the degree of the function.\n",
    "        For example, ut = 1+2u+3u**2 + 4ux+5uxu+6uxu**2 + 7uxx+8uxxu+9uxxu**2\n",
    "        becomes [[1, 2, 3],[4, 5, 6],[7, 8, 9]]\n",
    "        \"\"\"\n",
    "        \n",
    "        self.rng = np.random.RandomState(seed)\n",
    "        \n",
    "        self.xi = xi\n",
    "        self.max_order = self.xi.shape[0]-1 #the minus 1 is because it goes from 0 to max, inclusive\n",
    "        self.max_degree = self.xi.shape[1]-1 #the minus 1 is because it goes from 0 to max, inclusive\n",
    "        \n",
    "        self.tpoints = tpoints\n",
    "        self.xpoints = xpoints\n",
    "        self.trange = trange\n",
    "        self.xrange = xrange\n",
    "        \n",
    "        self.dt = (self.trange[1]-self.trange[0])/ self.tpoints #time steps\n",
    "        self.dx = (self.xrange[1]-self.xrange[0])/ self.xpoints #space step\n",
    "        \n",
    "        self.u = self.init_u()\n",
    "        self.simulated = False\n",
    "        \n",
    "    def init_u(self):\n",
    "        #makes one wavelength of cos, from 1 crest to the next\n",
    "        xarr = np.linspace(self.xrange[0], self.xrange[1], self.xpoints)\n",
    "        k = 2*np.pi/(self.xrange[1] - self.xrange[0])\n",
    "        phi = np.pi\n",
    "        u0 = np.cos(k*xarr+phi)\n",
    "        uempty = np.full((self.xpoints,), np.nan, dtype=float)\n",
    "        return np.vstack([u0]+[uempty]*(self.tpoints-1))\n",
    "    \n",
    "    def __repr__(self):\n",
    "        rep = 'ut ='\n",
    "        for order in range(self.max_order+1):\n",
    "            for degree in range(self.max_degree+1):\n",
    "                coef = self.xi[order, degree]\n",
    "                if coef == 0:\n",
    "                    term = ''\n",
    "                else:\n",
    "                    #coefficient factor\n",
    "                    if coef > 0:\n",
    "                        term = ' + ' + str(coef)\n",
    "                    elif coef < 0:\n",
    "                        term = ' - ' + str(-coef)\n",
    "                    #partial deriv factor\n",
    "                    if order > 0:\n",
    "                        term += 'u' + 'x'*order\n",
    "                    else: \n",
    "                        pass\n",
    "                    #function factor\n",
    "                    if degree == 1:\n",
    "                        term += 'u'\n",
    "                    elif degree > 1:\n",
    "                        term += 'u**'+degree\n",
    "                    else: \n",
    "                        pass\n",
    "                rep += term\n",
    "        if rep == 'ut =':\n",
    "            rep = 'ut = 0'\n",
    "        rep += '\\n\\twith xpoints='+str(self.xpoints)+' in '+str(self.xrange)\n",
    "        rep += '\\n\\tand with tpoints='+str(self.tpoints)+' in '+str(self.trange)\n",
    "        return rep\n",
    "        \n",
    "        \n",
    "    def get_dxs(self, point, npoints_behind, npoints_ahead):\n",
    "        diffs_behind = list(self.dxs[point-npoints_behind:point])\n",
    "        diffs_ahead = list(self.dxs[point:point+npoints_ahead])\n",
    "        return diffs_behind + diffs_ahead\n",
    "    \n",
    "    def get_du_x(self, time, point):\n",
    "        ugrid = self.u[time]\n",
    "        if point >= ugrid.shape[0]:\n",
    "               raise IndexError(\"Index too large\")\n",
    "        elif point < 0:\n",
    "            raise IndexError(\"Index too small\")\n",
    "        else:\n",
    "            return ugrid[point+1] - ugrid[point]\n",
    "    def get_dus_x(self, time, point, npoints_behind, npoints_ahead):\n",
    "        ugrid = self.u[time]\n",
    "        diffs_behind = []\n",
    "        for i in range(npoints_behind, 0, -1):\n",
    "            diffs_behind.append(self.get_du_x(time, point-i))\n",
    "        diffs_ahead = []\n",
    "        for i in range(0, npoints_ahead, 1):\n",
    "            diffs_ahead.append(self.get_du_x(time, point+1))\n",
    "        return diffs_behind + diffs_ahead\n",
    "    \n",
    "    def get_x_deriv_forward(self, time, point, order):\n",
    "        ugrid = self.u[time]\n",
    "        deriv = 0\n",
    "        for i in range(0, order+1):\n",
    "            deriv += (-1)**i * ugrid[point+order-i]\n",
    "        return deriv/self.dx**order\n",
    "    def get_x_deriv_backward(self, time, point, order):\n",
    "        ugrid = self.u[time]\n",
    "        deriv = 0\n",
    "        for i in range(0, order+1):\n",
    "            deriv += (-1)**i * ugrid[point-i]\n",
    "        return deriv/self.dx**order\n",
    "    def get_x_deriv_middle(self, time, point, order, verbose=False):\n",
    "        if order < 1:\n",
    "            raise ValueError(\"Order of a derivative cannot be less than one\")\n",
    "        binomial = lambda n, k: math.factorial(n)/math.factorial(k)/math.factorial(n-k)\n",
    "        ugrid = self.u[time]\n",
    "        deriv = 0\n",
    "        stringvar = '('\n",
    "        stringnum = '('\n",
    "        for i in range(0, order+1, +1):\n",
    "            if point+order-2*i >= ugrid.shape[0]:\n",
    "                raise IndexError(\"Index too large\")\n",
    "            elif point+order-2*i < 0:\n",
    "                raise IndexError(\"Index too small\")\n",
    "            else:\n",
    "                stringvar += ' + '+str((-1)**i)+' * '+str(order)+'C'+str(i)+' * u[point+'+str(order-2*i)+']'\n",
    "                stringnum += ' + '+str((-1)**i)+' * '+str(binomial(order, i))+' * '+str(ugrid[point+order-2*i])\n",
    "                deriv += (-1)**i * binomial(order, i) * ugrid[point+order-2*i] \n",
    "        stringvar += ')/(2 * dx)**'+str(order)\n",
    "        stringnum += ')/(2 * '+str(self.dx)+')**'+str(order)\n",
    "        if verbose==True:\n",
    "            print(str(stringvar)+' = '+str(stringnum)+' = '+str(deriv))\n",
    "        return deriv/(2**order * self.dx**order)\n",
    "    def get_x_deriv(self, time, point, order):\n",
    "        deriv = 0\n",
    "        try:\n",
    "            deriv = self.get_x_deriv_middle(time, point, order)\n",
    "        except IndexError:\n",
    "            try:\n",
    "                deriv = self.get_x_deriv_forward(time, point, order)\n",
    "            except IndexError:\n",
    "                deriv = self.get_x_deriv_backward(time, point, order)\n",
    "        return deriv\n",
    "    def get_t_deriv(self, time, point):\n",
    "        deriv = 0\n",
    "        for order in range(self.max_order+1):\n",
    "            for degree in range(self.max_degree+1):\n",
    "                coef = self.xi[order, degree]\n",
    "                xderiv = self.get_x_deriv(time, point, order)\n",
    "                u = xderiv*self.u[time, point]\n",
    "                try: \n",
    "                    deriv += coef * u**degree * xderiv\n",
    "                except FloatingPointError:\n",
    "                    print(\"time = \"+str(time))\n",
    "                    print(\"coef = \"+str(coef))\n",
    "                    print(\"u = \"+str(u))\n",
    "                    print(\"u**\"+str(degree)+\" = \"+str(u**degree))\n",
    "                    print(\"ux = \"+str(xderiv))\n",
    "                    raise\n",
    "        return deriv\n",
    "    \n",
    "    def sim_next_point(self, time, point):\n",
    "        u_curr = self.u[time, point]\n",
    "        for order in range(self.max_order+1):\n",
    "            for degree in range(self.max_degree+1):\n",
    "                u_next = u_curr + self.dt*self.get_t_deriv(time, point)\n",
    "        return u_next\n",
    "    def sim_next_grid(self, time):\n",
    "        next_grid = np.empty((self.xpoints,), dtype=float)\n",
    "        for point in range(self.xpoints):\n",
    "            next_grid[point] = self.sim_next_point(time, point)\n",
    "        return next_grid\n",
    "    def sim(self, force=False):\n",
    "        if self.simulated == False or force == True:\n",
    "            if force == True: print(\"Resimulating PDE from first step\")\n",
    "            for time in range(self.tpoints-1):\n",
    "                self.u[time+1] = self.sim_next_grid(time)\n",
    "            self.simulated == True\n",
    "            return self.u\n",
    "        else:\n",
    "            print(\"PDE already simulated\")\n",
    "            return self.u"
   ]
  },
  {
   "cell_type": "code",
   "execution_count": 10,
   "metadata": {},
   "outputs": [
    {
     "name": "stdout",
     "output_type": "stream",
     "text": [
      "ut = - 6.0uxu - 1.0uxxx\n",
      "\twith xpoints=512 in (-3.141592653589793, 3.141592653589793)\n",
      "\tand with tpoints=201 in (0, 20)\n"
     ]
    }
   ],
   "source": [
    "kdv_xi = np.zeros((4, 2))\n",
    "kdv_xi[3,0] = -1\n",
    "kdv_xi[1,1] = -6\n",
    "kdv = PDE(kdv_xi, xrange=(-np.pi, np.pi))\n",
    "print(kdv)"
   ]
  },
  {
   "cell_type": "code",
   "execution_count": 12,
   "metadata": {
    "scrolled": false
   },
   "outputs": [
    {
     "name": "stdout",
     "output_type": "stream",
     "text": [
      "-0.00615988439565\n",
      "\n",
      "6638.67930946\n"
     ]
    }
   ],
   "source": [
    "print(kdv.get_x_deriv_forward(0, 0, 1))\n",
    "print()\n",
    "print(kdv.get_x_deriv_forward(0, 0, 2))"
   ]
  },
  {
   "cell_type": "code",
   "execution_count": 36,
   "metadata": {},
   "outputs": [
    {
     "data": {
      "image/png": "[encoded data removed]",
      "text/plain": [
       "<Figure size 360x360 with 4 Axes>"
      ]
     },
     "metadata": {
      "needs_background": "light"
     },
     "output_type": "display_data"
    }
   ],
   "source": [
    "#print(kdv.get_x_deriv_middle(0, 512//4, 1, verbose=True))\n",
    "\n",
    "fig, axes = plt.subplots(kdv.max_order+1, figsize=(5,5), sharex=True)\n",
    "x = np.linspace(kdv.xrange[0], kdv.xrange[1], kdv.xpoints)\n",
    "time = 0\n",
    "y0 = kdv.u[time]\n",
    "axes[0].plot(x, y0)\n",
    "ylims = axes[0].get_ylim()\n",
    "y = [[kdv.get_x_deriv(time, point, order) for point in range(kdv.xpoints)] for order in range(1, kdv.max_order+1)]\n",
    "for i in range(len(y)):\n",
    "    axes[i+1].plot(x, y[i])\n",
    "axes[1].set_xlim(kdv.xrange[0], kdv.xrange[0]+kdv.dx)\n",
    "axes[0].set_ylim(0.99, 1.01)\n",
    "axes[1].set_ylim(-0.01, 0.01)\n",
    "axes[2].set_ylim(5000, 7000)\n",
    "axes[3].set_ylim(-300, -200)\n",
    "plt.subplots_adjust(hspace=0.6)\n",
    "plt.show()"
   ]
  },
  {
   "cell_type": "code",
   "execution_count": 160,
   "metadata": {},
   "outputs": [
    {
     "name": "stdout",
     "output_type": "stream",
     "text": [
      "0: u = 1.0\n"
     ]
    },
    {
     "ename": "ValueError",
     "evalue": "Order of a derivative cannot be less than one",
     "output_type": "error",
     "traceback": [
      "\u001b[1;31m---------------------------------------------------------------------------\u001b[0m",
      "\u001b[1;31mValueError\u001b[0m                                Traceback (most recent call last)",
      "\u001b[1;32m<ipython-input-160-17779755aa86>\u001b[0m in \u001b[0;36m<module>\u001b[1;34m\u001b[0m\n\u001b[0;32m      3\u001b[0m \u001b[1;32mfor\u001b[0m \u001b[0mtime\u001b[0m \u001b[1;32min\u001b[0m \u001b[0mrange\u001b[0m\u001b[1;33m(\u001b[0m\u001b[0mkdv\u001b[0m\u001b[1;33m.\u001b[0m\u001b[0mtpoints\u001b[0m\u001b[1;33m-\u001b[0m\u001b[1;36m1\u001b[0m\u001b[1;33m)\u001b[0m\u001b[1;33m:\u001b[0m\u001b[1;33m\u001b[0m\u001b[0m\n\u001b[0;32m      4\u001b[0m     \u001b[0mprint\u001b[0m\u001b[1;33m(\u001b[0m\u001b[0mstr\u001b[0m\u001b[1;33m(\u001b[0m\u001b[0mtime\u001b[0m\u001b[1;33m)\u001b[0m\u001b[1;33m+\u001b[0m\u001b[1;34m\": u = \"\u001b[0m\u001b[1;33m+\u001b[0m\u001b[0mstr\u001b[0m\u001b[1;33m(\u001b[0m\u001b[0mkdv\u001b[0m\u001b[1;33m.\u001b[0m\u001b[0mu\u001b[0m\u001b[1;33m[\u001b[0m\u001b[0mtime\u001b[0m\u001b[1;33m,\u001b[0m \u001b[1;36m0\u001b[0m\u001b[1;33m]\u001b[0m\u001b[1;33m)\u001b[0m\u001b[1;33m)\u001b[0m\u001b[1;33m\u001b[0m\u001b[0m\n\u001b[1;32m----> 5\u001b[1;33m     \u001b[0mkdv\u001b[0m\u001b[1;33m.\u001b[0m\u001b[0mu\u001b[0m\u001b[1;33m[\u001b[0m\u001b[0mtime\u001b[0m\u001b[1;33m+\u001b[0m\u001b[1;36m1\u001b[0m\u001b[1;33m]\u001b[0m \u001b[1;33m=\u001b[0m \u001b[0mkdv\u001b[0m\u001b[1;33m.\u001b[0m\u001b[0msim_next_grid\u001b[0m\u001b[1;33m(\u001b[0m\u001b[0mtime\u001b[0m\u001b[1;33m)\u001b[0m\u001b[1;33m\u001b[0m\u001b[0m\n\u001b[0m\u001b[0;32m      6\u001b[0m     \u001b[1;32mif\u001b[0m \u001b[0mnp\u001b[0m\u001b[1;33m.\u001b[0m\u001b[0many\u001b[0m\u001b[1;33m(\u001b[0m\u001b[0mnp\u001b[0m\u001b[1;33m.\u001b[0m\u001b[0misnan\u001b[0m\u001b[1;33m(\u001b[0m\u001b[0mkdv\u001b[0m\u001b[1;33m.\u001b[0m\u001b[0mu\u001b[0m\u001b[1;33m[\u001b[0m\u001b[0mtime\u001b[0m\u001b[1;33m+\u001b[0m\u001b[1;36m1\u001b[0m\u001b[1;33m]\u001b[0m\u001b[1;33m)\u001b[0m\u001b[1;33m)\u001b[0m\u001b[1;33m:\u001b[0m\u001b[1;33m\u001b[0m\u001b[0m\n\u001b[0;32m      7\u001b[0m         \u001b[0mprint\u001b[0m\u001b[1;33m(\u001b[0m\u001b[0mkdv\u001b[0m\u001b[1;33m.\u001b[0m\u001b[0mu\u001b[0m\u001b[1;33m[\u001b[0m\u001b[0mtime\u001b[0m\u001b[1;33m+\u001b[0m\u001b[1;36m1\u001b[0m\u001b[1;33m]\u001b[0m\u001b[1;33m)\u001b[0m\u001b[1;33m\u001b[0m\u001b[0m\n",
      "\u001b[1;32m<ipython-input-144-aa352966140a>\u001b[0m in \u001b[0;36msim_next_grid\u001b[1;34m(self, time)\u001b[0m\n\u001b[0;32m    156\u001b[0m         \u001b[0mnext_grid\u001b[0m \u001b[1;33m=\u001b[0m \u001b[0mnp\u001b[0m\u001b[1;33m.\u001b[0m\u001b[0mempty\u001b[0m\u001b[1;33m(\u001b[0m\u001b[1;33m(\u001b[0m\u001b[0mself\u001b[0m\u001b[1;33m.\u001b[0m\u001b[0mxpoints\u001b[0m\u001b[1;33m,\u001b[0m\u001b[1;33m)\u001b[0m\u001b[1;33m,\u001b[0m \u001b[0mdtype\u001b[0m\u001b[1;33m=\u001b[0m\u001b[0mfloat\u001b[0m\u001b[1;33m)\u001b[0m\u001b[1;33m\u001b[0m\u001b[0m\n\u001b[0;32m    157\u001b[0m         \u001b[1;32mfor\u001b[0m \u001b[0mpoint\u001b[0m \u001b[1;32min\u001b[0m \u001b[0mrange\u001b[0m\u001b[1;33m(\u001b[0m\u001b[0mself\u001b[0m\u001b[1;33m.\u001b[0m\u001b[0mxpoints\u001b[0m\u001b[1;33m)\u001b[0m\u001b[1;33m:\u001b[0m\u001b[1;33m\u001b[0m\u001b[0m\n\u001b[1;32m--> 158\u001b[1;33m             \u001b[0mnext_grid\u001b[0m\u001b[1;33m[\u001b[0m\u001b[0mpoint\u001b[0m\u001b[1;33m]\u001b[0m \u001b[1;33m=\u001b[0m \u001b[0mself\u001b[0m\u001b[1;33m.\u001b[0m\u001b[0msim_next_point\u001b[0m\u001b[1;33m(\u001b[0m\u001b[0mtime\u001b[0m\u001b[1;33m,\u001b[0m \u001b[0mpoint\u001b[0m\u001b[1;33m)\u001b[0m\u001b[1;33m\u001b[0m\u001b[0m\n\u001b[0m\u001b[0;32m    159\u001b[0m         \u001b[1;32mreturn\u001b[0m \u001b[0mnext_grid\u001b[0m\u001b[1;33m\u001b[0m\u001b[0m\n\u001b[0;32m    160\u001b[0m     \u001b[1;32mdef\u001b[0m \u001b[0msim\u001b[0m\u001b[1;33m(\u001b[0m\u001b[0mself\u001b[0m\u001b[1;33m,\u001b[0m \u001b[0mforce\u001b[0m\u001b[1;33m=\u001b[0m\u001b[1;32mFalse\u001b[0m\u001b[1;33m)\u001b[0m\u001b[1;33m:\u001b[0m\u001b[1;33m\u001b[0m\u001b[0m\n",
      "\u001b[1;32m<ipython-input-144-aa352966140a>\u001b[0m in \u001b[0;36msim_next_point\u001b[1;34m(self, time, point)\u001b[0m\n\u001b[0;32m    151\u001b[0m         \u001b[1;32mfor\u001b[0m \u001b[0morder\u001b[0m \u001b[1;32min\u001b[0m \u001b[0mrange\u001b[0m\u001b[1;33m(\u001b[0m\u001b[0mself\u001b[0m\u001b[1;33m.\u001b[0m\u001b[0mmax_order\u001b[0m\u001b[1;33m+\u001b[0m\u001b[1;36m1\u001b[0m\u001b[1;33m)\u001b[0m\u001b[1;33m:\u001b[0m\u001b[1;33m\u001b[0m\u001b[0m\n\u001b[0;32m    152\u001b[0m             \u001b[1;32mfor\u001b[0m \u001b[0mdegree\u001b[0m \u001b[1;32min\u001b[0m \u001b[0mrange\u001b[0m\u001b[1;33m(\u001b[0m\u001b[0mself\u001b[0m\u001b[1;33m.\u001b[0m\u001b[0mmax_degree\u001b[0m\u001b[1;33m+\u001b[0m\u001b[1;36m1\u001b[0m\u001b[1;33m)\u001b[0m\u001b[1;33m:\u001b[0m\u001b[1;33m\u001b[0m\u001b[0m\n\u001b[1;32m--> 153\u001b[1;33m                 \u001b[0mu_next\u001b[0m \u001b[1;33m=\u001b[0m \u001b[0mu_curr\u001b[0m \u001b[1;33m+\u001b[0m \u001b[0mself\u001b[0m\u001b[1;33m.\u001b[0m\u001b[0mdt\u001b[0m\u001b[1;33m*\u001b[0m\u001b[0mself\u001b[0m\u001b[1;33m.\u001b[0m\u001b[0mget_t_deriv\u001b[0m\u001b[1;33m(\u001b[0m\u001b[0mtime\u001b[0m\u001b[1;33m,\u001b[0m \u001b[0mpoint\u001b[0m\u001b[1;33m)\u001b[0m\u001b[1;33m\u001b[0m\u001b[0m\n\u001b[0m\u001b[0;32m    154\u001b[0m         \u001b[1;32mreturn\u001b[0m \u001b[0mu_next\u001b[0m\u001b[1;33m\u001b[0m\u001b[0m\n\u001b[0;32m    155\u001b[0m     \u001b[1;32mdef\u001b[0m \u001b[0msim_next_grid\u001b[0m\u001b[1;33m(\u001b[0m\u001b[0mself\u001b[0m\u001b[1;33m,\u001b[0m \u001b[0mtime\u001b[0m\u001b[1;33m)\u001b[0m\u001b[1;33m:\u001b[0m\u001b[1;33m\u001b[0m\u001b[0m\n",
      "\u001b[1;32m<ipython-input-144-aa352966140a>\u001b[0m in \u001b[0;36mget_t_deriv\u001b[1;34m(self, time, point)\u001b[0m\n\u001b[0;32m    134\u001b[0m             \u001b[1;32mfor\u001b[0m \u001b[0mdegree\u001b[0m \u001b[1;32min\u001b[0m \u001b[0mrange\u001b[0m\u001b[1;33m(\u001b[0m\u001b[0mself\u001b[0m\u001b[1;33m.\u001b[0m\u001b[0mmax_degree\u001b[0m\u001b[1;33m+\u001b[0m\u001b[1;36m1\u001b[0m\u001b[1;33m)\u001b[0m\u001b[1;33m:\u001b[0m\u001b[1;33m\u001b[0m\u001b[0m\n\u001b[0;32m    135\u001b[0m                 \u001b[0mcoef\u001b[0m \u001b[1;33m=\u001b[0m \u001b[0mself\u001b[0m\u001b[1;33m.\u001b[0m\u001b[0mxi\u001b[0m\u001b[1;33m[\u001b[0m\u001b[0morder\u001b[0m\u001b[1;33m,\u001b[0m \u001b[0mdegree\u001b[0m\u001b[1;33m]\u001b[0m\u001b[1;33m\u001b[0m\u001b[0m\n\u001b[1;32m--> 136\u001b[1;33m                 \u001b[0mxderiv\u001b[0m \u001b[1;33m=\u001b[0m \u001b[0mself\u001b[0m\u001b[1;33m.\u001b[0m\u001b[0mget_x_deriv\u001b[0m\u001b[1;33m(\u001b[0m\u001b[0mtime\u001b[0m\u001b[1;33m,\u001b[0m \u001b[0mpoint\u001b[0m\u001b[1;33m,\u001b[0m \u001b[0morder\u001b[0m\u001b[1;33m)\u001b[0m\u001b[1;33m\u001b[0m\u001b[0m\n\u001b[0m\u001b[0;32m    137\u001b[0m                 \u001b[0mu\u001b[0m \u001b[1;33m=\u001b[0m \u001b[0mxderiv\u001b[0m\u001b[1;33m*\u001b[0m\u001b[0mself\u001b[0m\u001b[1;33m.\u001b[0m\u001b[0mu\u001b[0m\u001b[1;33m[\u001b[0m\u001b[0mtime\u001b[0m\u001b[1;33m,\u001b[0m \u001b[0mpoint\u001b[0m\u001b[1;33m]\u001b[0m\u001b[1;33m\u001b[0m\u001b[0m\n\u001b[0;32m    138\u001b[0m                 \u001b[1;32mtry\u001b[0m\u001b[1;33m:\u001b[0m\u001b[1;33m\u001b[0m\u001b[0m\n",
      "\u001b[1;32m<ipython-input-144-aa352966140a>\u001b[0m in \u001b[0;36mget_x_deriv\u001b[1;34m(self, time, point, order)\u001b[0m\n\u001b[0;32m    122\u001b[0m         \u001b[0mderiv\u001b[0m \u001b[1;33m=\u001b[0m \u001b[1;36m0\u001b[0m\u001b[1;33m\u001b[0m\u001b[0m\n\u001b[0;32m    123\u001b[0m         \u001b[1;32mtry\u001b[0m\u001b[1;33m:\u001b[0m\u001b[1;33m\u001b[0m\u001b[0m\n\u001b[1;32m--> 124\u001b[1;33m             \u001b[0mderiv\u001b[0m \u001b[1;33m=\u001b[0m \u001b[0mself\u001b[0m\u001b[1;33m.\u001b[0m\u001b[0mget_x_deriv_middle\u001b[0m\u001b[1;33m(\u001b[0m\u001b[0mtime\u001b[0m\u001b[1;33m,\u001b[0m \u001b[0mpoint\u001b[0m\u001b[1;33m,\u001b[0m \u001b[0morder\u001b[0m\u001b[1;33m)\u001b[0m\u001b[1;33m\u001b[0m\u001b[0m\n\u001b[0m\u001b[0;32m    125\u001b[0m         \u001b[1;32mexcept\u001b[0m \u001b[0mIndexError\u001b[0m\u001b[1;33m:\u001b[0m\u001b[1;33m\u001b[0m\u001b[0m\n\u001b[0;32m    126\u001b[0m             \u001b[1;32mtry\u001b[0m\u001b[1;33m:\u001b[0m\u001b[1;33m\u001b[0m\u001b[0m\n",
      "\u001b[1;32m<ipython-input-144-aa352966140a>\u001b[0m in \u001b[0;36mget_x_deriv_middle\u001b[1;34m(self, time, point, order)\u001b[0m\n\u001b[0;32m    107\u001b[0m     \u001b[1;32mdef\u001b[0m \u001b[0mget_x_deriv_middle\u001b[0m\u001b[1;33m(\u001b[0m\u001b[0mself\u001b[0m\u001b[1;33m,\u001b[0m \u001b[0mtime\u001b[0m\u001b[1;33m,\u001b[0m \u001b[0mpoint\u001b[0m\u001b[1;33m,\u001b[0m \u001b[0morder\u001b[0m\u001b[1;33m)\u001b[0m\u001b[1;33m:\u001b[0m\u001b[1;33m\u001b[0m\u001b[0m\n\u001b[0;32m    108\u001b[0m         \u001b[1;32mif\u001b[0m \u001b[0morder\u001b[0m \u001b[1;33m<\u001b[0m \u001b[1;36m1\u001b[0m\u001b[1;33m:\u001b[0m\u001b[1;33m\u001b[0m\u001b[0m\n\u001b[1;32m--> 109\u001b[1;33m             \u001b[1;32mraise\u001b[0m \u001b[0mValueError\u001b[0m\u001b[1;33m(\u001b[0m\u001b[1;34m\"Order of a derivative cannot be less than one\"\u001b[0m\u001b[1;33m)\u001b[0m\u001b[1;33m\u001b[0m\u001b[0m\n\u001b[0m\u001b[0;32m    110\u001b[0m         \u001b[0mbinomial\u001b[0m \u001b[1;33m=\u001b[0m \u001b[1;32mlambda\u001b[0m \u001b[0mn\u001b[0m\u001b[1;33m,\u001b[0m \u001b[0mk\u001b[0m\u001b[1;33m:\u001b[0m \u001b[0mmath\u001b[0m\u001b[1;33m.\u001b[0m\u001b[0mfactorial\u001b[0m\u001b[1;33m(\u001b[0m\u001b[0mn\u001b[0m\u001b[1;33m)\u001b[0m \u001b[1;33m/\u001b[0m \u001b[0mmath\u001b[0m\u001b[1;33m.\u001b[0m\u001b[0mfactorial\u001b[0m\u001b[1;33m(\u001b[0m\u001b[0mk\u001b[0m\u001b[1;33m)\u001b[0m\u001b[1;33m/\u001b[0m\u001b[0mmath\u001b[0m\u001b[1;33m.\u001b[0m\u001b[0mfactorial\u001b[0m\u001b[1;33m(\u001b[0m\u001b[0mn\u001b[0m\u001b[1;33m-\u001b[0m\u001b[0mk\u001b[0m\u001b[1;33m)\u001b[0m\u001b[1;33m\u001b[0m\u001b[0m\n\u001b[0;32m    111\u001b[0m         \u001b[0mugrid\u001b[0m \u001b[1;33m=\u001b[0m \u001b[0mself\u001b[0m\u001b[1;33m.\u001b[0m\u001b[0mu\u001b[0m\u001b[1;33m[\u001b[0m\u001b[0mtime\u001b[0m\u001b[1;33m]\u001b[0m\u001b[1;33m\u001b[0m\u001b[0m\n",
      "\u001b[1;31mValueError\u001b[0m: Order of a derivative cannot be less than one"
     ]
    }
   ],
   "source": [
    "np.seterr(all='raise')\n",
    "np.seterr(under='ignore')\n",
    "for time in range(kdv.tpoints-1):\n",
    "    print(str(time)+\": u = \"+str(kdv.u[time, 0]))\n",
    "    kdv.u[time+1] = kdv.sim_next_grid(time)\n",
    "    if np.any(np.isnan(kdv.u[time+1])):\n",
    "        print(kdv.u[time+1])"
   ]
  },
  {
   "cell_type": "markdown",
   "metadata": {},
   "source": [
    "### TO DO\n",
    "- rewrite get_x_deriv and it's forward/backward/middle versions to have less nested steps\n",
    "- expand possible equations to include more non-linearity, like ut = sin(ux)\n",
    "- make it possible to have an irregular grid spacing\n",
    "- add boundary conditions"
   ]
  }
 ],
 "metadata": {
  "colab": {
   "collapsed_sections": [],
   "name": "PDE-FIND.ipynb",
   "provenance": [],
   "version": "0.3.2"
  },
  "kernelspec": {
   "display_name": "Python [default]",
   "language": "python",
   "name": "python3"
  },
  "language_info": {
   "codemirror_mode": {
    "name": "ipython",
    "version": 3
   },
   "file_extension": ".py",
   "mimetype": "text/x-python",
   "name": "python",
   "nbconvert_exporter": "python",
   "pygments_lexer": "ipython3",
   "version": "3.5.5"
  }
 },
 "nbformat": 4,
 "nbformat_minor": 1
}
