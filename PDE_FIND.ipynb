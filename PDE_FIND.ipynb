{
 "cells": [
  {
   "cell_type": "code",
   "execution_count": 7,
   "metadata": {
    "colab": {},
    "colab_type": "code",
    "id": "MwYhbov3TZvP"
   },
   "outputs": [],
   "source": [
    "import numpy as np\n",
    "import re\n",
    "import matplotlib.pyplot as plt\n",
    "%matplotlib inline"
   ]
  },
  {
   "cell_type": "code",
   "execution_count": 8,
   "metadata": {
    "colab": {
     "base_uri": "https://localhost:8080/",
     "height": 71
    },
    "colab_type": "code",
    "id": "iJxZfxhwSZAw",
    "outputId": "a4b38766-9dfc-4e90-8b5c-bf458635ff35"
   },
   "outputs": [],
   "source": [
    "class PDE:\n",
    "    def __init__(self, xi, seed=0):\n",
    "        \"\"\"\n",
    "        xi is a 2d matrix where each entry corresponds to a coefficient of a term, \n",
    "        where the 1st axis corresponds to the order of the space partial derivative\n",
    "        and the 2nd axis corresponds to the degree of the function.\n",
    "        For example, ut = 1+2u+3u**2 + 4ux+5uxu+6uxu**2 + 7uxx+8uxxu+9uxxu**2\n",
    "        becomes [[1, 2, 3],[4, 5, 6],[7, 8, 9]]\n",
    "        \"\"\"\n",
    "        \n",
    "        self.rng = np.random.RandomState(seed)\n",
    "        \n",
    "        self.xi = xi\n",
    "        self.max_order = self.xi.shape[0]-1 #the minus 1 is because it goes from 0 to max, inclusive\n",
    "        self.max_degree = self.xi.shape[1]-1 #the minus 1 is because it goes from 0 to max, inclusive\n",
    "        \n",
    "        self.tpoints = 201\n",
    "        self.xpoints = 512\n",
    "        self.trange = (0, 20)\n",
    "        self.xrange = (-30, 30)\n",
    "        \n",
    "        self.dt = (self.trange[1]-self.trange[0])/ self.tpoints #time steps\n",
    "        self.dx = (self.xrange[1]-self.xrange[0])/ self.xpoints #space step\n",
    "        \n",
    "        self.u = self.init_u()\n",
    "        self.simulated = False\n",
    "        \n",
    "    def init_u(self):\n",
    "        return self.rng.rand(self.xpoints)\n",
    "        \n",
    "        \n",
    "    def get_dxs(self, point, npoints_behind, npoints_ahead):\n",
    "        diffs_behind = list(self.dxs[point-npoints_behind:point])\n",
    "        diffs_ahead = list(self.dxs[point:point+npoints_ahead])\n",
    "        return diffs_behind + diffs_ahead\n",
    "    \n",
    "    def get_du_x(self, time, point):\n",
    "        ugrid = self.u[time]\n",
    "        return ugrid[point+1] - ugrid[point]\n",
    "    def get_dus_x(self, time, point, npoints_behind, npoints_ahead):\n",
    "        ugrid = self.u[time]\n",
    "        diffs_behind = []\n",
    "        for i in range(npoints_behind, 0, -1):\n",
    "            diffs_behind.append(self.get_du_x(time, point-i))\n",
    "        diffs_ahead = []\n",
    "        for i in range(0, npoints_ahead, 1):\n",
    "            diffs_ahead.append(self.get_du_x(time, point+1))\n",
    "        return diffs_behind + diffs_ahead\n",
    "    \n",
    "    def get_x_derivative(self, time, point, order):\n",
    "        deriv = self.get_du_x(time, point+order-1) / self.dx**order\n",
    "        for i in range(order-1, 0, -1):\n",
    "            deriv -= self.get_x_derivative(time, point+i-1, order-i) / self.dx**i\n",
    "        return deriv\n",
    "    def get_t_derivative(self, time, point):\n",
    "        deriv = 0\n",
    "        for order in range(self.max_order+1):\n",
    "            for degree in range(self.max_deg+1):\n",
    "                coef = self.xi[order, degree]\n",
    "                xderiv = self.get_x_derivative(time, point, order)\n",
    "                u = xderiv*self.u[time, point]\n",
    "                deriv += coef * u**degree * xderiv\n",
    "        return deriv\n",
    "    \n",
    "    def sim_point_step(self, time, point):\n",
    "        u_curr = self.u[time, point]\n",
    "        for order in range(self.max_order+1):\n",
    "            for degree in range(self.max_deg+1):\n",
    "                u_next = u_curr + dt*self.get_t_derivative(time, point)\n",
    "    def sim_grid_step(self, time):\n",
    "        next_grid = np.empty((self.xpoints,), dtype=float)\n",
    "        for point in range(self.xpoints):\n",
    "            next_grid[point] = self.sim_point_step(time, point)\n",
    "        return next_grid\n",
    "    def sim(self):\n",
    "        if self.simulated == False:\n",
    "            spacetime = [self.u]\n",
    "            for time in range(self.tpoints-1):\n",
    "                spacetime.append(self.sim_grid_step(time))\n",
    "            return np.array(spacetime)\n",
    "        else:\n",
    "            print(\"PDE already simulated\")\n",
    "            return self.u"
   ]
  },
  {
   "cell_type": "markdown",
   "metadata": {},
   "source": [
    "### TO DO\n",
    "- make sure there aren't issues with boundary conditions when calculating derivatives (maybe make the first xpoints use forward euler step while the last xpoints use backwards euler step)\n",
    "- rewrite get_x_derivative to have less nested steps\n",
    "- expand possible equations to include non-linearity, like ut = sin(ux)"
   ]
  }
 ],
 "metadata": {
  "colab": {
   "collapsed_sections": [],
   "name": "PDE-FIND.ipynb",
   "provenance": [],
   "version": "0.3.2"
  },
  "kernelspec": {
   "display_name": "Python [default]",
   "language": "python",
   "name": "python3"
  },
  "language_info": {
   "codemirror_mode": {
    "name": "ipython",
    "version": 3
   },
   "file_extension": ".py",
   "mimetype": "text/x-python",
   "name": "python",
   "nbconvert_exporter": "python",
   "pygments_lexer": "ipython3",
   "version": "3.5.5"
  }
 },
 "nbformat": 4,
 "nbformat_minor": 1
}
