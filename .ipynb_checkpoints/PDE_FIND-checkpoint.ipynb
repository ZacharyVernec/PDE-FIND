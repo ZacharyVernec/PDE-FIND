{
 "cells": [
  {
   "cell_type": "code",
   "execution_count": 31,
   "metadata": {
    "colab": {},
    "colab_type": "code",
    "id": "MwYhbov3TZvP"
   },
   "outputs": [],
   "source": [
    "import numpy as np\n",
    "import math\n",
    "import re\n",
    "import matplotlib.pyplot as plt\n",
    "%matplotlib inline"
   ]
  },
  {
   "cell_type": "code",
   "execution_count": 32,
   "metadata": {
    "colab": {
     "base_uri": "https://localhost:8080/",
     "height": 71
    },
    "colab_type": "code",
    "id": "iJxZfxhwSZAw",
    "outputId": "a4b38766-9dfc-4e90-8b5c-bf458635ff35"
   },
   "outputs": [],
   "source": [
    "class PDE:\n",
    "    def __init__(self, xi, seed=0):\n",
    "        \"\"\"\n",
    "        xi is a 2d matrix where each entry corresponds to a coefficient of a term, \n",
    "        where the 1st axis corresponds to the order of the space partial derivative\n",
    "        and the 2nd axis corresponds to the degree of the function.\n",
    "        For example, ut = 1+2u+3u**2 + 4ux+5uxu+6uxu**2 + 7uxx+8uxxu+9uxxu**2\n",
    "        becomes [[1, 2, 3],[4, 5, 6],[7, 8, 9]]\n",
    "        \"\"\"\n",
    "        \n",
    "        self.rng = np.random.RandomState(seed)\n",
    "        \n",
    "        self.xi = xi\n",
    "        self.max_order = self.xi.shape[0]-1 #the minus 1 is because it goes from 0 to max, inclusive\n",
    "        self.max_degree = self.xi.shape[1]-1 #the minus 1 is because it goes from 0 to max, inclusive\n",
    "        \n",
    "        self.tpoints = 201\n",
    "        self.xpoints = 512\n",
    "        self.trange = (0, 20)\n",
    "        self.xrange = (-30, 30)\n",
    "        \n",
    "        self.dt = (self.trange[1]-self.trange[0])/ self.tpoints #time steps\n",
    "        self.dx = (self.xrange[1]-self.xrange[0])/ self.xpoints #space step\n",
    "        \n",
    "        self.u = self.init_u()\n",
    "        self.simulated = False\n",
    "        \n",
    "    def init_u(self):\n",
    "        return self.rng.rand(self.xpoints)\n",
    "    \n",
    "    def __repr__(self):\n",
    "        rep = 'ut ='\n",
    "        for order in range(self.max_order+1):\n",
    "            for degree in range(self.max_degree+1):\n",
    "                coef = self.xi[order, degree]\n",
    "                if coef == 0:\n",
    "                    term = ''\n",
    "                else:\n",
    "                    #coefficient factor\n",
    "                    if coef > 0:\n",
    "                        term = ' + ' + str(coef)\n",
    "                    elif coef < 0:\n",
    "                        term = ' - ' + str(-coef)\n",
    "                    #partial deriv factor\n",
    "                    if order > 0:\n",
    "                        term += 'u' + 'x'*order\n",
    "                    else: \n",
    "                        pass\n",
    "                    #function factor\n",
    "                    if degree == 1:\n",
    "                        term += 'u'\n",
    "                    elif degree > 1:\n",
    "                        term += 'u**'+degree\n",
    "                    else: \n",
    "                        pass\n",
    "                rep += term\n",
    "        if rep == 'ut =':\n",
    "            rep = 'ut = 0'\n",
    "        return rep\n",
    "        \n",
    "        \n",
    "    def get_dxs(self, point, npoints_behind, npoints_ahead):\n",
    "        diffs_behind = list(self.dxs[point-npoints_behind:point])\n",
    "        diffs_ahead = list(self.dxs[point:point+npoints_ahead])\n",
    "        return diffs_behind + diffs_ahead\n",
    "    \n",
    "    def get_du_x_ahead(self, time, point):\n",
    "        ugrid = self.u[time]\n",
    "        return ugrid[point+1] - ugrid[point]\n",
    "    def get_dus_x(self, time, point, npoints_behind, npoints_ahead):\n",
    "        ugrid = self.u[time]\n",
    "        diffs_behind = []\n",
    "        for i in range(npoints_behind, 0, -1):\n",
    "            diffs_behind.append(self.get_du_x(time, point-i))\n",
    "        diffs_ahead = []\n",
    "        for i in range(0, npoints_ahead, 1):\n",
    "            diffs_ahead.append(self.get_du_x(time, point+1))\n",
    "        return diffs_behind + diffs_ahead\n",
    "    \n",
    "    def get_x_deriv_forward(self, time, point, order):\n",
    "        deriv = self.get_du_x(time, point+order-1) / self.dx**order\n",
    "        for i in range(order-1, 0, -1):\n",
    "            deriv -= self.get_x_deriv(time, point+i-1, order-i) / self.dx**i\n",
    "        return deriv\n",
    "    def get_x_deriv_backward(self, time, point, order):\n",
    "        deriv = self.get_x_deriv(time, point, order-1) / self.dx\n",
    "        for i in range(2, order, +1):\n",
    "            deriv -= self.get_x_deriv(time, point-i+1, order-i) / self.dx**i\n",
    "        deriv -= self.get_du_x(time, point-order) / dx**order\n",
    "        return deriv\n",
    "    def get_x_deriv_middle(self, time, point, order):\n",
    "        binomial = lambda n, k: math.factorial(n) / math.factorial(k)/math.factorial(n-k)\n",
    "        ugrid = self.u[time]\n",
    "        deriv = 0\n",
    "        for i in range(0, order+1, +1):\n",
    "            deriv += (-1)**i * binomial(order, i) * ugrid[point+order-2*i]\n",
    "        return deriv\n",
    "    def get_x_deriv(self, time, point, order):\n",
    "        try:\n",
    "            deriv = self.get_x_deriv_middle(time, point, order)\n",
    "        except IndexError:\n",
    "            try:\n",
    "                deriv = self.get_x_deriv_forward(time, point, order)\n",
    "            except IndexError:\n",
    "                deriv = self.get_x_deriv_backward(time, point, order)\n",
    "        return deriv\n",
    "    def get_t_deriv(self, time, point):\n",
    "        deriv = 0\n",
    "        for order in range(self.max_order+1):\n",
    "            for degree in range(self.max_deg+1):\n",
    "                coef = self.xi[order, degree]\n",
    "                xderiv = self.get_x_deriv(time, point, order)\n",
    "                u = xderiv*self.u[time, point]\n",
    "                deriv += coef * u**degree * xderiv\n",
    "        return deriv\n",
    "    \n",
    "    def sim_point_step(self, time, point):\n",
    "        u_curr = self.u[time, point]\n",
    "        for order in range(self.max_order+1):\n",
    "            for degree in range(self.max_deg+1):\n",
    "                u_next = u_curr + dt*self.get_t_derivative(time, point)\n",
    "    def sim_grid_step(self, time):\n",
    "        next_grid = np.empty((self.xpoints,), dtype=float)\n",
    "        for point in range(self.xpoints):\n",
    "            next_grid[point] = self.sim_point_step(time, point)\n",
    "        return next_grid\n",
    "    def sim(self):\n",
    "        if self.simulated == False:\n",
    "            spacetime = [self.u]\n",
    "            for time in range(self.tpoints-1):\n",
    "                spacetime.append(self.sim_grid_step(time))\n",
    "            return np.array(spacetime)\n",
    "        else:\n",
    "            print(\"PDE already simulated\")\n",
    "            return self.u"
   ]
  },
  {
   "cell_type": "code",
   "execution_count": 33,
   "metadata": {
    "scrolled": false
   },
   "outputs": [
    {
     "name": "stdout",
     "output_type": "stream",
     "text": [
      "ut = - 6.0uxu - 1.0uxxx\n"
     ]
    },
    {
     "ename": "IndexError",
     "evalue": "too many indices for array",
     "output_type": "error",
     "traceback": [
      "\u001b[1;31m---------------------------------------------------------------------------\u001b[0m",
      "\u001b[1;31mIndexError\u001b[0m                                Traceback (most recent call last)",
      "\u001b[1;32m<ipython-input-33-470ffce3c1f1>\u001b[0m in \u001b[0;36m<module>\u001b[1;34m\u001b[0m\n\u001b[0;32m      4\u001b[0m \u001b[0mkdv\u001b[0m \u001b[1;33m=\u001b[0m \u001b[0mPDE\u001b[0m\u001b[1;33m(\u001b[0m\u001b[0mkdv_xi\u001b[0m\u001b[1;33m,\u001b[0m \u001b[1;36m0\u001b[0m\u001b[1;33m)\u001b[0m\u001b[1;33m\u001b[0m\u001b[0m\n\u001b[0;32m      5\u001b[0m \u001b[0mprint\u001b[0m\u001b[1;33m(\u001b[0m\u001b[0mkdv\u001b[0m\u001b[1;33m)\u001b[0m\u001b[1;33m\u001b[0m\u001b[0m\n\u001b[1;32m----> 6\u001b[1;33m \u001b[0mkdv\u001b[0m\u001b[1;33m.\u001b[0m\u001b[0msim\u001b[0m\u001b[1;33m(\u001b[0m\u001b[1;33m)\u001b[0m\u001b[1;33m\u001b[0m\u001b[0m\n\u001b[0m\u001b[0;32m      7\u001b[0m \u001b[0mprint\u001b[0m\u001b[1;33m(\u001b[0m\u001b[0mkdv\u001b[0m\u001b[1;33m.\u001b[0m\u001b[0mu\u001b[0m\u001b[1;33m)\u001b[0m\u001b[1;33m\u001b[0m\u001b[0m\n",
      "\u001b[1;32m<ipython-input-32-12fd1ae26532>\u001b[0m in \u001b[0;36msim\u001b[1;34m(self)\u001b[0m\n\u001b[0;32m    129\u001b[0m             \u001b[0mspacetime\u001b[0m \u001b[1;33m=\u001b[0m \u001b[1;33m[\u001b[0m\u001b[0mself\u001b[0m\u001b[1;33m.\u001b[0m\u001b[0mu\u001b[0m\u001b[1;33m]\u001b[0m\u001b[1;33m\u001b[0m\u001b[0m\n\u001b[0;32m    130\u001b[0m             \u001b[1;32mfor\u001b[0m \u001b[0mtime\u001b[0m \u001b[1;32min\u001b[0m \u001b[0mrange\u001b[0m\u001b[1;33m(\u001b[0m\u001b[0mself\u001b[0m\u001b[1;33m.\u001b[0m\u001b[0mtpoints\u001b[0m\u001b[1;33m-\u001b[0m\u001b[1;36m1\u001b[0m\u001b[1;33m)\u001b[0m\u001b[1;33m:\u001b[0m\u001b[1;33m\u001b[0m\u001b[0m\n\u001b[1;32m--> 131\u001b[1;33m                 \u001b[0mspacetime\u001b[0m\u001b[1;33m.\u001b[0m\u001b[0mappend\u001b[0m\u001b[1;33m(\u001b[0m\u001b[0mself\u001b[0m\u001b[1;33m.\u001b[0m\u001b[0msim_grid_step\u001b[0m\u001b[1;33m(\u001b[0m\u001b[0mtime\u001b[0m\u001b[1;33m)\u001b[0m\u001b[1;33m)\u001b[0m\u001b[1;33m\u001b[0m\u001b[0m\n\u001b[0m\u001b[0;32m    132\u001b[0m             \u001b[1;32mreturn\u001b[0m \u001b[0mnp\u001b[0m\u001b[1;33m.\u001b[0m\u001b[0marray\u001b[0m\u001b[1;33m(\u001b[0m\u001b[0mspacetime\u001b[0m\u001b[1;33m)\u001b[0m\u001b[1;33m\u001b[0m\u001b[0m\n\u001b[0;32m    133\u001b[0m         \u001b[1;32melse\u001b[0m\u001b[1;33m:\u001b[0m\u001b[1;33m\u001b[0m\u001b[0m\n",
      "\u001b[1;32m<ipython-input-32-12fd1ae26532>\u001b[0m in \u001b[0;36msim_grid_step\u001b[1;34m(self, time)\u001b[0m\n\u001b[0;32m    123\u001b[0m         \u001b[0mnext_grid\u001b[0m \u001b[1;33m=\u001b[0m \u001b[0mnp\u001b[0m\u001b[1;33m.\u001b[0m\u001b[0mempty\u001b[0m\u001b[1;33m(\u001b[0m\u001b[1;33m(\u001b[0m\u001b[0mself\u001b[0m\u001b[1;33m.\u001b[0m\u001b[0mxpoints\u001b[0m\u001b[1;33m,\u001b[0m\u001b[1;33m)\u001b[0m\u001b[1;33m,\u001b[0m \u001b[0mdtype\u001b[0m\u001b[1;33m=\u001b[0m\u001b[0mfloat\u001b[0m\u001b[1;33m)\u001b[0m\u001b[1;33m\u001b[0m\u001b[0m\n\u001b[0;32m    124\u001b[0m         \u001b[1;32mfor\u001b[0m \u001b[0mpoint\u001b[0m \u001b[1;32min\u001b[0m \u001b[0mrange\u001b[0m\u001b[1;33m(\u001b[0m\u001b[0mself\u001b[0m\u001b[1;33m.\u001b[0m\u001b[0mxpoints\u001b[0m\u001b[1;33m)\u001b[0m\u001b[1;33m:\u001b[0m\u001b[1;33m\u001b[0m\u001b[0m\n\u001b[1;32m--> 125\u001b[1;33m             \u001b[0mnext_grid\u001b[0m\u001b[1;33m[\u001b[0m\u001b[0mpoint\u001b[0m\u001b[1;33m]\u001b[0m \u001b[1;33m=\u001b[0m \u001b[0mself\u001b[0m\u001b[1;33m.\u001b[0m\u001b[0msim_point_step\u001b[0m\u001b[1;33m(\u001b[0m\u001b[0mtime\u001b[0m\u001b[1;33m,\u001b[0m \u001b[0mpoint\u001b[0m\u001b[1;33m)\u001b[0m\u001b[1;33m\u001b[0m\u001b[0m\n\u001b[0m\u001b[0;32m    126\u001b[0m         \u001b[1;32mreturn\u001b[0m \u001b[0mnext_grid\u001b[0m\u001b[1;33m\u001b[0m\u001b[0m\n\u001b[0;32m    127\u001b[0m     \u001b[1;32mdef\u001b[0m \u001b[0msim\u001b[0m\u001b[1;33m(\u001b[0m\u001b[0mself\u001b[0m\u001b[1;33m)\u001b[0m\u001b[1;33m:\u001b[0m\u001b[1;33m\u001b[0m\u001b[0m\n",
      "\u001b[1;32m<ipython-input-32-12fd1ae26532>\u001b[0m in \u001b[0;36msim_point_step\u001b[1;34m(self, time, point)\u001b[0m\n\u001b[0;32m    116\u001b[0m \u001b[1;33m\u001b[0m\u001b[0m\n\u001b[0;32m    117\u001b[0m     \u001b[1;32mdef\u001b[0m \u001b[0msim_point_step\u001b[0m\u001b[1;33m(\u001b[0m\u001b[0mself\u001b[0m\u001b[1;33m,\u001b[0m \u001b[0mtime\u001b[0m\u001b[1;33m,\u001b[0m \u001b[0mpoint\u001b[0m\u001b[1;33m)\u001b[0m\u001b[1;33m:\u001b[0m\u001b[1;33m\u001b[0m\u001b[0m\n\u001b[1;32m--> 118\u001b[1;33m         \u001b[0mu_curr\u001b[0m \u001b[1;33m=\u001b[0m \u001b[0mself\u001b[0m\u001b[1;33m.\u001b[0m\u001b[0mu\u001b[0m\u001b[1;33m[\u001b[0m\u001b[0mtime\u001b[0m\u001b[1;33m,\u001b[0m \u001b[0mpoint\u001b[0m\u001b[1;33m]\u001b[0m\u001b[1;33m\u001b[0m\u001b[0m\n\u001b[0m\u001b[0;32m    119\u001b[0m         \u001b[1;32mfor\u001b[0m \u001b[0morder\u001b[0m \u001b[1;32min\u001b[0m \u001b[0mrange\u001b[0m\u001b[1;33m(\u001b[0m\u001b[0mself\u001b[0m\u001b[1;33m.\u001b[0m\u001b[0mmax_order\u001b[0m\u001b[1;33m+\u001b[0m\u001b[1;36m1\u001b[0m\u001b[1;33m)\u001b[0m\u001b[1;33m:\u001b[0m\u001b[1;33m\u001b[0m\u001b[0m\n\u001b[0;32m    120\u001b[0m             \u001b[1;32mfor\u001b[0m \u001b[0mdegree\u001b[0m \u001b[1;32min\u001b[0m \u001b[0mrange\u001b[0m\u001b[1;33m(\u001b[0m\u001b[0mself\u001b[0m\u001b[1;33m.\u001b[0m\u001b[0mmax_deg\u001b[0m\u001b[1;33m+\u001b[0m\u001b[1;36m1\u001b[0m\u001b[1;33m)\u001b[0m\u001b[1;33m:\u001b[0m\u001b[1;33m\u001b[0m\u001b[0m\n",
      "\u001b[1;31mIndexError\u001b[0m: too many indices for array"
     ]
    }
   ],
   "source": [
    "kdv_xi = np.zeros((4, 2))\n",
    "kdv_xi[3,0] = -1\n",
    "kdv_xi[1,1] = -6\n",
    "kdv = PDE(kdv_xi, 0)\n",
    "print(kdv)\n",
    "kdv.sim()\n",
    "print(kdv.u)"
   ]
  },
  {
   "cell_type": "code",
   "execution_count": 13,
   "metadata": {},
   "outputs": [
    {
     "data": {
      "text/plain": [
       "(512,)"
      ]
     },
     "execution_count": 13,
     "metadata": {},
     "output_type": "execute_result"
    }
   ],
   "source": [
    "kdv.u.shape"
   ]
  },
  {
   "cell_type": "markdown",
   "metadata": {},
   "source": [
    "### TO DO\n",
    "- make sure there aren't issues with boundary conditions when calculating derivatives (maybe make the first xpoints use forward euler step while the last xpoints use backwards euler step)\n",
    "- rewrite get_x_deriv and it's forward/backward/middle versions to have less nested steps\n",
    "- expand possible equations to include non-linearity, like ut = sin(ux)\n",
    "- make it possible to have an irregular grid spacing"
   ]
  }
 ],
 "metadata": {
  "colab": {
   "collapsed_sections": [],
   "name": "PDE-FIND.ipynb",
   "provenance": [],
   "version": "0.3.2"
  },
  "kernelspec": {
   "display_name": "Python [default]",
   "language": "python",
   "name": "python3"
  },
  "language_info": {
   "codemirror_mode": {
    "name": "ipython",
    "version": 3
   },
   "file_extension": ".py",
   "mimetype": "text/x-python",
   "name": "python",
   "nbconvert_exporter": "python",
   "pygments_lexer": "ipython3",
   "version": "3.5.5"
  }
 },
 "nbformat": 4,
 "nbformat_minor": 1
}
